{
 "cells": [
  {
   "cell_type": "code",
   "execution_count": 1,
   "id": "1b08302e",
   "metadata": {
    "_cell_guid": "b1076dfc-b9ad-4769-8c92-a6c4dae69d19",
    "_uuid": "8f2839f25d086af736a60e9eeb907d3b93b6e0e5",
    "execution": {
     "iopub.execute_input": "2022-12-07T00:19:55.335277Z",
     "iopub.status.busy": "2022-12-07T00:19:55.334668Z",
     "iopub.status.idle": "2022-12-07T00:19:56.848347Z",
     "shell.execute_reply": "2022-12-07T00:19:56.846614Z"
    },
    "papermill": {
     "duration": 1.526995,
     "end_time": "2022-12-07T00:19:56.851723",
     "exception": false,
     "start_time": "2022-12-07T00:19:55.324728",
     "status": "completed"
    },
    "tags": []
   },
   "outputs": [
    {
     "name": "stdout",
     "output_type": "stream",
     "text": [
      "/kaggle/input/vehicle-claim-fraud-detection/fraud_oracle.csv\n"
     ]
    }
   ],
   "source": [
    "import numpy as np\n",
    "import pandas as pd\n",
    "import seaborn as sns\n",
    "import matplotlib as plt\n",
    "import matplotlib.pyplot as pyplot\n",
    "from sklearn.preprocessing import StandardScaler \n",
    "from sklearn.ensemble import RandomForestRegressor\n",
    "from sklearn.metrics import mean_absolute_error\n",
    "from sklearn.model_selection import train_test_split\n",
    "from sklearn.preprocessing import LabelEncoder\n",
    "from sklearn.metrics import r2_score\n",
    "from sklearn.metrics import mean_squared_error\n",
    "from scipy.stats import kstest\n",
    "from sklearn.feature_selection import SelectKBest\n",
    "from sklearn.feature_selection import f_regression\n",
    "from sklearn.linear_model import LogisticRegression\n",
    "from sklearn.metrics import max_error\n",
    "\n",
    "import os\n",
    "for dirname, _, filenames in os.walk('/kaggle/input'):\n",
    "    for filename in filenames:\n",
    "        print(os.path.join(dirname, filename))"
   ]
  },
  {
   "cell_type": "markdown",
   "id": "f4b484b4",
   "metadata": {
    "papermill": {
     "duration": 0.006277,
     "end_time": "2022-12-07T00:19:56.866190",
     "exception": false,
     "start_time": "2022-12-07T00:19:56.859913",
     "status": "completed"
    },
    "tags": []
   },
   "source": [
    "**Introduction**"
   ]
  },
  {
   "cell_type": "markdown",
   "id": "db9206c8",
   "metadata": {
    "papermill": {
     "duration": 0.007234,
     "end_time": "2022-12-07T00:19:56.881140",
     "exception": false,
     "start_time": "2022-12-07T00:19:56.873906",
     "status": "completed"
    },
    "tags": []
   },
   "source": [
    "With this project I'll be performing exploratory data analysis and machine learning on three years of vehicle accident claim data for a vehicle insurance company. The goal of this analysis is to create an algorithm for detecting fraud in future vehicle accident claims.\n",
    "\n",
    "Detecting fraud is notoriously difficult, since it represents such a small percent of cases, and it is specifically meant to go undetected. Our first goal is to determine which variables are most correlated with vehicle claim fraud, and use that as a baseline for building our machine learning algorithm."
   ]
  },
  {
   "cell_type": "markdown",
   "id": "5a581995",
   "metadata": {
    "papermill": {
     "duration": 0.007419,
     "end_time": "2022-12-07T00:19:56.896517",
     "exception": false,
     "start_time": "2022-12-07T00:19:56.889098",
     "status": "completed"
    },
    "tags": []
   },
   "source": [
    "**About This Data**"
   ]
  },
  {
   "cell_type": "markdown",
   "id": "21e13549",
   "metadata": {
    "papermill": {
     "duration": 0.007985,
     "end_time": "2022-12-07T00:19:56.912188",
     "exception": false,
     "start_time": "2022-12-07T00:19:56.904203",
     "status": "completed"
    },
    "tags": []
   },
   "source": [
    "This data was provided by Shivam Bansal, from a public domain source. It is a collection of insurance claims. There are approximately 14.5 thousand subjects, 923 of which are marked as fraudulent. Before we dive into analysis, we need to perform some basic data cleaning steps, and prepare the data for analysis."
   ]
  },
  {
   "cell_type": "markdown",
   "id": "6780cba6",
   "metadata": {
    "papermill": {
     "duration": 0.00619,
     "end_time": "2022-12-07T00:19:56.926440",
     "exception": false,
     "start_time": "2022-12-07T00:19:56.920250",
     "status": "completed"
    },
    "tags": []
   },
   "source": [
    "**Step 1: Data Cleaning and Prep**\n",
    "\n",
    "The first step is to view a breakdown of the variables. This dataset has 33 variables, made up of 24 'object' variables and 9 'integer' variables. In cleaning this data, we need to ensure that there are no null-values or duplicates, and remove needless variables from the equation."
   ]
  },
  {
   "cell_type": "code",
   "execution_count": 2,
   "id": "3c5af325",
   "metadata": {
    "execution": {
     "iopub.execute_input": "2022-12-07T00:19:56.941212Z",
     "iopub.status.busy": "2022-12-07T00:19:56.940733Z",
     "iopub.status.idle": "2022-12-07T00:19:57.119044Z",
     "shell.execute_reply": "2022-12-07T00:19:57.117406Z"
    },
    "papermill": {
     "duration": 0.188886,
     "end_time": "2022-12-07T00:19:57.121782",
     "exception": false,
     "start_time": "2022-12-07T00:19:56.932896",
     "status": "completed"
    },
    "tags": []
   },
   "outputs": [
    {
     "name": "stdout",
     "output_type": "stream",
     "text": [
      "<class 'pandas.core.frame.DataFrame'>\n",
      "RangeIndex: 15420 entries, 0 to 15419\n",
      "Data columns (total 33 columns):\n",
      " #   Column                Non-Null Count  Dtype \n",
      "---  ------                --------------  ----- \n",
      " 0   Month                 15420 non-null  object\n",
      " 1   WeekOfMonth           15420 non-null  int64 \n",
      " 2   DayOfWeek             15420 non-null  object\n",
      " 3   Make                  15420 non-null  object\n",
      " 4   AccidentArea          15420 non-null  object\n",
      " 5   DayOfWeekClaimed      15420 non-null  object\n",
      " 6   MonthClaimed          15420 non-null  object\n",
      " 7   WeekOfMonthClaimed    15420 non-null  int64 \n",
      " 8   Sex                   15420 non-null  object\n",
      " 9   MaritalStatus         15420 non-null  object\n",
      " 10  Age                   15420 non-null  int64 \n",
      " 11  Fault                 15420 non-null  object\n",
      " 12  PolicyType            15420 non-null  object\n",
      " 13  VehicleCategory       15420 non-null  object\n",
      " 14  VehiclePrice          15420 non-null  object\n",
      " 15  FraudFound_P          15420 non-null  int64 \n",
      " 16  PolicyNumber          15420 non-null  int64 \n",
      " 17  RepNumber             15420 non-null  int64 \n",
      " 18  Deductible            15420 non-null  int64 \n",
      " 19  DriverRating          15420 non-null  int64 \n",
      " 20  Days_Policy_Accident  15420 non-null  object\n",
      " 21  Days_Policy_Claim     15420 non-null  object\n",
      " 22  PastNumberOfClaims    15420 non-null  object\n",
      " 23  AgeOfVehicle          15420 non-null  object\n",
      " 24  AgeOfPolicyHolder     15420 non-null  object\n",
      " 25  PoliceReportFiled     15420 non-null  object\n",
      " 26  WitnessPresent        15420 non-null  object\n",
      " 27  AgentType             15420 non-null  object\n",
      " 28  NumberOfSuppliments   15420 non-null  object\n",
      " 29  AddressChange_Claim   15420 non-null  object\n",
      " 30  NumberOfCars          15420 non-null  object\n",
      " 31  Year                  15420 non-null  int64 \n",
      " 32  BasePolicy            15420 non-null  object\n",
      "dtypes: int64(9), object(24)\n",
      "memory usage: 3.9+ MB\n"
     ]
    }
   ],
   "source": [
    "data = pd.read_csv('../input/vehicle-claim-fraud-detection/fraud_oracle.csv')\n",
    "data.info()"
   ]
  },
  {
   "cell_type": "code",
   "execution_count": 3,
   "id": "3a99f13d",
   "metadata": {
    "execution": {
     "iopub.execute_input": "2022-12-07T00:19:57.137900Z",
     "iopub.status.busy": "2022-12-07T00:19:57.137498Z",
     "iopub.status.idle": "2022-12-07T00:19:57.220586Z",
     "shell.execute_reply": "2022-12-07T00:19:57.219275Z"
    },
    "papermill": {
     "duration": 0.095281,
     "end_time": "2022-12-07T00:19:57.223688",
     "exception": false,
     "start_time": "2022-12-07T00:19:57.128407",
     "status": "completed"
    },
    "tags": []
   },
   "outputs": [
    {
     "name": "stdout",
     "output_type": "stream",
     "text": [
      "<class 'pandas.core.frame.DataFrame'>\n",
      "RangeIndex: 15420 entries, 0 to 15419\n",
      "Data columns (total 31 columns):\n",
      " #   Column                Non-Null Count  Dtype \n",
      "---  ------                --------------  ----- \n",
      " 0   Month                 15420 non-null  object\n",
      " 1   WeekOfMonth           15420 non-null  int64 \n",
      " 2   DayOfWeek             15420 non-null  object\n",
      " 3   Make                  15420 non-null  object\n",
      " 4   AccidentArea          15420 non-null  object\n",
      " 5   DayOfWeekClaimed      15420 non-null  object\n",
      " 6   MonthClaimed          15420 non-null  object\n",
      " 7   WeekOfMonthClaimed    15420 non-null  int64 \n",
      " 8   Sex                   15420 non-null  object\n",
      " 9   MaritalStatus         15420 non-null  object\n",
      " 10  Age                   15420 non-null  int64 \n",
      " 11  Fault                 15420 non-null  object\n",
      " 12  PolicyType            15420 non-null  object\n",
      " 13  VehicleCategory       15420 non-null  object\n",
      " 14  VehiclePrice          15420 non-null  object\n",
      " 15  FraudFound_P          15420 non-null  int64 \n",
      " 16  Deductible            15420 non-null  int64 \n",
      " 17  DriverRating          15420 non-null  int64 \n",
      " 18  Days_Policy_Accident  15420 non-null  object\n",
      " 19  Days_Policy_Claim     15420 non-null  object\n",
      " 20  PastNumberOfClaims    15420 non-null  object\n",
      " 21  AgeOfVehicle          15420 non-null  object\n",
      " 22  AgeOfPolicyHolder     15420 non-null  object\n",
      " 23  PoliceReportFiled     15420 non-null  object\n",
      " 24  WitnessPresent        15420 non-null  object\n",
      " 25  AgentType             15420 non-null  object\n",
      " 26  NumberOfSuppliments   15420 non-null  object\n",
      " 27  AddressChange_Claim   15420 non-null  object\n",
      " 28  NumberOfCars          15420 non-null  object\n",
      " 29  Year                  15420 non-null  int64 \n",
      " 30  BasePolicy            15420 non-null  object\n",
      "dtypes: int64(7), object(24)\n",
      "memory usage: 3.6+ MB\n"
     ]
    }
   ],
   "source": [
    "#removing duplicates and unnecessary variables\n",
    "data.drop_duplicates()\n",
    "data.drop(['PolicyNumber','RepNumber'],inplace=True,axis=1)\n",
    "data.info()"
   ]
  },
  {
   "cell_type": "markdown",
   "id": "7a1c10f0",
   "metadata": {
    "papermill": {
     "duration": 0.00785,
     "end_time": "2022-12-07T00:19:57.239137",
     "exception": false,
     "start_time": "2022-12-07T00:19:57.231287",
     "status": "completed"
    },
    "tags": []
   },
   "source": [
    "Next, we need to create separate datasets for fraud and no-fraud, so that we can more easily measure the correlation between other variables and fraud. Then we'll add the sums together, to ensure we didn't lose any subjects.\n",
    "\n",
    "After that, we'll make a bar chart to visualize how many fraudulent subjects there are as opposed to non-fraudulent ones. For the FraudFound_P column, 0 means fraud was not found, and 1 means fraud was found."
   ]
  },
  {
   "cell_type": "code",
   "execution_count": 4,
   "id": "62d207c9",
   "metadata": {
    "execution": {
     "iopub.execute_input": "2022-12-07T00:19:57.259829Z",
     "iopub.status.busy": "2022-12-07T00:19:57.259351Z",
     "iopub.status.idle": "2022-12-07T00:19:57.576367Z",
     "shell.execute_reply": "2022-12-07T00:19:57.575097Z"
    },
    "papermill": {
     "duration": 0.330582,
     "end_time": "2022-12-07T00:19:57.579221",
     "exception": false,
     "start_time": "2022-12-07T00:19:57.248639",
     "status": "completed"
    },
    "tags": []
   },
   "outputs": [
    {
     "name": "stdout",
     "output_type": "stream",
     "text": [
      "# of non-fraud claims\n",
      "14497\n",
      "# of fraud claims\n",
      "923\n",
      "total # of claims\n"
     ]
    },
    {
     "data": {
      "text/plain": [
       "[Text(0.5, 1.0, 'No Fraud vs Fraud totals')]"
      ]
     },
     "execution_count": 4,
     "metadata": {},
     "output_type": "execute_result"
    },
    {
     "data": {
      "image/png": "[encoded data removed]",
      "text/plain": [
       "<Figure size 432x288 with 1 Axes>"
      ]
     },
     "metadata": {
      "needs_background": "light"
     },
     "output_type": "display_data"
    }
   ],
   "source": [
    "#creating separate datasets for fraud and no fraud\n",
    "fraud_data = data[data.FraudFound_P==1]\n",
    "nofraud_data = data[data.FraudFound_P==0]\n",
    "#checking my work\n",
    "print('# of non-fraud claims')\n",
    "print(len(nofraud_data))\n",
    "print('# of fraud claims')\n",
    "print(len(fraud_data))\n",
    "print('total # of claims')\n",
    "len(fraud_data+nofraud_data)\n",
    "sns.barplot(x=data['FraudFound_P'].value_counts().index,y=data['FraudFound_P'].value_counts()).set(title='No Fraud vs Fraud totals')"
   ]
  },
  {
   "cell_type": "markdown",
   "id": "ef019478",
   "metadata": {
    "papermill": {
     "duration": 0.006753,
     "end_time": "2022-12-07T00:19:57.593086",
     "exception": false,
     "start_time": "2022-12-07T00:19:57.586333",
     "status": "completed"
    },
    "tags": []
   },
   "source": [
    "**Step 2: Exploratory Data Analysis**\n",
    "\n",
    "Determining the correlation between variables is relatively simple, but it's not the whole picture. We'll use the corr() function as a baseline, then go a little deeper in our analysis to create some visualizations.\n",
    "\n",
    "The first step is to create a list of all the variables we'd like to explore. Next, the corr() function will tell us what should be investigated more closely."
   ]
  },
  {
   "cell_type": "code",
   "execution_count": 5,
   "id": "ed1d5a19",
   "metadata": {
    "execution": {
     "iopub.execute_input": "2022-12-07T00:19:57.608830Z",
     "iopub.status.busy": "2022-12-07T00:19:57.608400Z",
     "iopub.status.idle": "2022-12-07T00:19:57.635440Z",
     "shell.execute_reply": "2022-12-07T00:19:57.634544Z"
    },
    "papermill": {
     "duration": 0.037475,
     "end_time": "2022-12-07T00:19:57.637603",
     "exception": false,
     "start_time": "2022-12-07T00:19:57.600128",
     "status": "completed"
    },
    "tags": []
   },
   "outputs": [
    {
     "data": {
      "text/html": [
       "<div>\n",
       "<style scoped>\n",
       "    .dataframe tbody tr th:only-of-type {\n",
       "        vertical-align: middle;\n",
       "    }\n",
       "\n",
       "    .dataframe tbody tr th {\n",
       "        vertical-align: top;\n",
       "    }\n",
       "\n",
       "    .dataframe thead th {\n",
       "        text-align: right;\n",
       "    }\n",
       "</style>\n",
       "<table border=\"1\" class=\"dataframe\">\n",
       "  <thead>\n",
       "    <tr style=\"text-align: right;\">\n",
       "      <th></th>\n",
       "      <th>WeekOfMonth</th>\n",
       "      <th>WeekOfMonthClaimed</th>\n",
       "      <th>Age</th>\n",
       "      <th>FraudFound_P</th>\n",
       "      <th>Deductible</th>\n",
       "      <th>DriverRating</th>\n",
       "      <th>Year</th>\n",
       "    </tr>\n",
       "  </thead>\n",
       "  <tbody>\n",
       "    <tr>\n",
       "      <th>WeekOfMonth</th>\n",
       "      <td>1.000000</td>\n",
       "      <td>0.275400</td>\n",
       "      <td>-0.004810</td>\n",
       "      <td>-0.011861</td>\n",
       "      <td>-0.003993</td>\n",
       "      <td>-0.016817</td>\n",
       "      <td>-0.003906</td>\n",
       "    </tr>\n",
       "    <tr>\n",
       "      <th>WeekOfMonthClaimed</th>\n",
       "      <td>0.275400</td>\n",
       "      <td>1.000000</td>\n",
       "      <td>0.001859</td>\n",
       "      <td>-0.005761</td>\n",
       "      <td>0.005457</td>\n",
       "      <td>-0.000048</td>\n",
       "      <td>0.012175</td>\n",
       "    </tr>\n",
       "    <tr>\n",
       "      <th>Age</th>\n",
       "      <td>-0.004810</td>\n",
       "      <td>0.001859</td>\n",
       "      <td>1.000000</td>\n",
       "      <td>-0.029741</td>\n",
       "      <td>0.069420</td>\n",
       "      <td>0.001668</td>\n",
       "      <td>0.025197</td>\n",
       "    </tr>\n",
       "    <tr>\n",
       "      <th>FraudFound_P</th>\n",
       "      <td>-0.011861</td>\n",
       "      <td>-0.005761</td>\n",
       "      <td>-0.029741</td>\n",
       "      <td>1.000000</td>\n",
       "      <td>0.017348</td>\n",
       "      <td>0.007266</td>\n",
       "      <td>-0.024760</td>\n",
       "    </tr>\n",
       "    <tr>\n",
       "      <th>Deductible</th>\n",
       "      <td>-0.003993</td>\n",
       "      <td>0.005457</td>\n",
       "      <td>0.069420</td>\n",
       "      <td>0.017348</td>\n",
       "      <td>1.000000</td>\n",
       "      <td>0.003886</td>\n",
       "      <td>-0.001170</td>\n",
       "    </tr>\n",
       "    <tr>\n",
       "      <th>DriverRating</th>\n",
       "      <td>-0.016817</td>\n",
       "      <td>-0.000048</td>\n",
       "      <td>0.001668</td>\n",
       "      <td>0.007266</td>\n",
       "      <td>0.003886</td>\n",
       "      <td>1.000000</td>\n",
       "      <td>-0.013890</td>\n",
       "    </tr>\n",
       "    <tr>\n",
       "      <th>Year</th>\n",
       "      <td>-0.003906</td>\n",
       "      <td>0.012175</td>\n",
       "      <td>0.025197</td>\n",
       "      <td>-0.024760</td>\n",
       "      <td>-0.001170</td>\n",
       "      <td>-0.013890</td>\n",
       "      <td>1.000000</td>\n",
       "    </tr>\n",
       "  </tbody>\n",
       "</table>\n",
       "</div>"
      ],
      "text/plain": [
       "                    WeekOfMonth  WeekOfMonthClaimed       Age  FraudFound_P  \\\n",
       "WeekOfMonth            1.000000            0.275400 -0.004810     -0.011861   \n",
       "WeekOfMonthClaimed     0.275400            1.000000  0.001859     -0.005761   \n",
       "Age                   -0.004810            0.001859  1.000000     -0.029741   \n",
       "FraudFound_P          -0.011861           -0.005761 -0.029741      1.000000   \n",
       "Deductible            -0.003993            0.005457  0.069420      0.017348   \n",
       "DriverRating          -0.016817           -0.000048  0.001668      0.007266   \n",
       "Year                  -0.003906            0.012175  0.025197     -0.024760   \n",
       "\n",
       "                    Deductible  DriverRating      Year  \n",
       "WeekOfMonth          -0.003993     -0.016817 -0.003906  \n",
       "WeekOfMonthClaimed    0.005457     -0.000048  0.012175  \n",
       "Age                   0.069420      0.001668  0.025197  \n",
       "FraudFound_P          0.017348      0.007266 -0.024760  \n",
       "Deductible            1.000000      0.003886 -0.001170  \n",
       "DriverRating          0.003886      1.000000 -0.013890  \n",
       "Year                 -0.001170     -0.013890  1.000000  "
      ]
     },
     "execution_count": 5,
     "metadata": {},
     "output_type": "execute_result"
    }
   ],
   "source": [
    "attributes=['Month','WeekOfMonth','DayOfWeek','Make','AccidentArea','DayOfWeekClaimed','MonthClaimed','WeekOfMonthClaimed','Sex','MaritalStatus','Age','Fault','PolicyType','VehicleCategory','VehiclePrice','Deductible','DriverRating','Days_Policy_Accident','Days_Policy_Claim','PastNumberOfClaims','AgeOfVehicle','AgeOfPolicyHolder','PoliceReportFiled','WitnessPresent','AgentType','NumberOfSuppliments','AddressChange_Claim','NumberOfCars','Year','BasePolicy']\n",
    "data.corr()"
   ]
  },
  {
   "cell_type": "markdown",
   "id": "220ea12f",
   "metadata": {
    "papermill": {
     "duration": 0.007115,
     "end_time": "2022-12-07T00:19:57.652046",
     "exception": false,
     "start_time": "2022-12-07T00:19:57.644931",
     "status": "completed"
    },
    "tags": []
   },
   "source": [
    "The corr() function returns the pairwise correlation of all columns in the dataframe, but we can create a function to find ONLY a variable's correlation with the FraudFound_P variable. In order to do that, we first need to transform all the strings to integers."
   ]
  },
  {
   "cell_type": "code",
   "execution_count": 6,
   "id": "d84dc0ea",
   "metadata": {
    "execution": {
     "iopub.execute_input": "2022-12-07T00:19:57.669137Z",
     "iopub.status.busy": "2022-12-07T00:19:57.667944Z",
     "iopub.status.idle": "2022-12-07T00:19:57.981262Z",
     "shell.execute_reply": "2022-12-07T00:19:57.979169Z"
    },
    "papermill": {
     "duration": 0.324366,
     "end_time": "2022-12-07T00:19:57.983827",
     "exception": false,
     "start_time": "2022-12-07T00:19:57.659461",
     "status": "completed"
    },
    "tags": []
   },
   "outputs": [
    {
     "name": "stdout",
     "output_type": "stream",
     "text": [
      "Correlation scores by variable:\n",
      "Month\n",
      "-0.01\n",
      "WeekOfMonth\n",
      "-0.01\n",
      "DayOfWeek\n",
      "-0.02\n",
      "Make\n",
      "-0.02\n",
      "AccidentArea\n",
      "-0.03\n",
      "DayOfWeekClaimed\n",
      "-0.0\n",
      "MonthClaimed\n",
      "-0.01\n",
      "WeekOfMonthClaimed\n",
      "-0.01\n",
      "Sex\n",
      "0.03\n",
      "MaritalStatus\n",
      "0.0\n",
      "Age\n",
      "-0.03\n",
      "Fault\n",
      "-0.13\n",
      "PolicyType\n",
      "-0.06\n",
      "VehicleCategory\n",
      "-0.1\n",
      "VehiclePrice\n",
      "0.06\n",
      "Deductible\n",
      "0.03\n",
      "DriverRating\n",
      "0.01\n",
      "Days_Policy_Accident\n",
      "0.01\n",
      "Days_Policy_Claim\n",
      "-0.02\n",
      "PastNumberOfClaims\n",
      "0.02\n",
      "AgeOfVehicle\n",
      "-0.02\n",
      "AgeOfPolicyHolder\n",
      "-0.03\n",
      "PoliceReportFiled\n",
      "-0.02\n",
      "WitnessPresent\n",
      "-0.01\n",
      "AgentType\n",
      "-0.02\n",
      "NumberOfSuppliments\n",
      "0.01\n",
      "AddressChange_Claim\n",
      "-0.04\n",
      "NumberOfCars\n",
      "0.01\n",
      "Year\n",
      "-0.02\n",
      "BasePolicy\n",
      "-0.16\n"
     ]
    }
   ],
   "source": [
    "#transforming string to integer data\n",
    "def transform(column):\n",
    "    label=LabelEncoder().fit_transform(data[column])\n",
    "    data.drop(column,axis=1,inplace=True)\n",
    "    data[column]=label\n",
    "def multi_transform(list):\n",
    "    mt_list=[]\n",
    "    for x in list:\n",
    "        if x not in mt_list:\n",
    "            transform(x)\n",
    "multi_transform(attributes)\n",
    "\n",
    "#calculating the correlation between each variable and fraud\n",
    "def multi_corr(column):\n",
    "    corr_list=[]\n",
    "    for x in column:\n",
    "        if x not in corr_list:\n",
    "            c=data['FraudFound_P'].corr(data[x],method='pearson',min_periods=1)\n",
    "            print(x)\n",
    "            print(round(c,2))\n",
    "print('Correlation scores by variable:')\n",
    "multi_corr(attributes)"
   ]
  },
  {
   "cell_type": "markdown",
   "id": "1e2299c7",
   "metadata": {
    "papermill": {
     "duration": 0.006984,
     "end_time": "2022-12-07T00:19:57.998154",
     "exception": false,
     "start_time": "2022-12-07T00:19:57.991170",
     "status": "completed"
    },
    "tags": []
   },
   "source": [
    "Here, we're able to determine which of the variables are most highly correlated with fraud, and which are the least correlated. Next, we can examine these more closely using seaborn visualization.\n",
    "\n",
    "Let's create some bar charts to visualize the variables with the highest correlation. For each variable, we'll great two charts-- one from the fraud dataset, and one from the no fraud dataset. That way, we can examine the difference between the two."
   ]
  },
  {
   "cell_type": "code",
   "execution_count": 7,
   "id": "97a9f882",
   "metadata": {
    "execution": {
     "iopub.execute_input": "2022-12-07T00:19:58.014587Z",
     "iopub.status.busy": "2022-12-07T00:19:58.014138Z",
     "iopub.status.idle": "2022-12-07T00:19:59.758558Z",
     "shell.execute_reply": "2022-12-07T00:19:59.757463Z"
    },
    "papermill": {
     "duration": 1.755613,
     "end_time": "2022-12-07T00:19:59.761220",
     "exception": false,
     "start_time": "2022-12-07T00:19:58.005607",
     "status": "completed"
    },
    "tags": []
   },
   "outputs": [
    {
     "data": {
      "image/png": "[encoded data removed]",
      "text/plain": [
       "<Figure size 1800x360 with 2 Axes>"
      ]
     },
     "metadata": {
      "needs_background": "light"
     },
     "output_type": "display_data"
    },
    {
     "data": {
      "image/png": "[encoded data removed]",
      "text/plain": [
       "<Figure size 1800x360 with 2 Axes>"
      ]
     },
     "metadata": {
      "needs_background": "light"
     },
     "output_type": "display_data"
    },
    {
     "data": {
      "image/png": "[encoded data removed]",
      "text/plain": [
       "<Figure size 1800x360 with 2 Axes>"
      ]
     },
     "metadata": {
      "needs_background": "light"
     },
     "output_type": "display_data"
    },
    {
     "data": {
      "image/png": "[encoded data removed]",
      "text/plain": [
       "<Figure size 1800x360 with 2 Axes>"
      ]
     },
     "metadata": {
      "needs_background": "light"
     },
     "output_type": "display_data"
    },
    {
     "data": {
      "image/png": "[encoded data removed]",
      "text/plain": [
       "<Figure size 1800x360 with 2 Axes>"
      ]
     },
     "metadata": {
      "needs_background": "light"
     },
     "output_type": "display_data"
    }
   ],
   "source": [
    "#creating two different lists for highly-correlated variables and low-correlated variables\n",
    "hi_corr_var=['BasePolicy','VehicleCategory','Fault','VehiclePrice','PolicyType']\n",
    "lo_corr_var=['DayOfWeekClaimed','MaritalStatus','Month','WeekOfMonth','MonthClaimed','WeekOfMonthClaimed','VehicleCategory','DriverRating','Days_Policy_Accident','WitnessPresent','NumberOfSuppliments','NumberOfCars']\n",
    "\n",
    "#creating a function to make comparative bar charts\n",
    "def get_viz(column):\n",
    "    fig,(ax1, ax2)=plt.pyplot.subplots(1,2,figsize=(25,5))\n",
    "    fig.suptitle('NoFraud vs Fraud viz')\n",
    "    sns.barplot(x=nofraud_data[column].value_counts().index,y=nofraud_data[column].value_counts(),ax=ax1)\n",
    "    sns.barplot(x=fraud_data[column].value_counts().index,y=fraud_data[column].value_counts(),ax=ax2)\n",
    "    \n",
    "#creating another function to run the above function on every variable at once\n",
    "def multi_viz(list):\n",
    "    mv_list=[]\n",
    "    for x in list:\n",
    "        if x not in mv_list:\n",
    "            get_viz(x)\n",
    "multi_viz(hi_corr_var)"
   ]
  },
  {
   "cell_type": "markdown",
   "id": "b91f4306",
   "metadata": {
    "papermill": {
     "duration": 0.008711,
     "end_time": "2022-12-07T00:19:59.779322",
     "exception": false,
     "start_time": "2022-12-07T00:19:59.770611",
     "status": "completed"
    },
    "tags": []
   },
   "source": [
    "**Step 3: Fraud Detection with RandomForestRegressor model**\n",
    "\n",
    "Based on our analysis, feature selection may be a key factor in our machine learning model. Let's create a simple RandomForestRegressor model and see how it performs. To do this, we'll need a balanced dataset. That means we have the same number of fraudulent subjects as non-fraudulent ones. Let's create a balanced dataset now."
   ]
  },
  {
   "cell_type": "code",
   "execution_count": 8,
   "id": "3b0f9bc1",
   "metadata": {
    "execution": {
     "iopub.execute_input": "2022-12-07T00:19:59.798936Z",
     "iopub.status.busy": "2022-12-07T00:19:59.798504Z",
     "iopub.status.idle": "2022-12-07T00:19:59.842456Z",
     "shell.execute_reply": "2022-12-07T00:19:59.841275Z"
    },
    "papermill": {
     "duration": 0.056743,
     "end_time": "2022-12-07T00:19:59.844893",
     "exception": false,
     "start_time": "2022-12-07T00:19:59.788150",
     "status": "completed"
    },
    "tags": []
   },
   "outputs": [
    {
     "data": {
      "text/html": [
       "<div>\n",
       "<style scoped>\n",
       "    .dataframe tbody tr th:only-of-type {\n",
       "        vertical-align: middle;\n",
       "    }\n",
       "\n",
       "    .dataframe tbody tr th {\n",
       "        vertical-align: top;\n",
       "    }\n",
       "\n",
       "    .dataframe thead th {\n",
       "        text-align: right;\n",
       "    }\n",
       "</style>\n",
       "<table border=\"1\" class=\"dataframe\">\n",
       "  <thead>\n",
       "    <tr style=\"text-align: right;\">\n",
       "      <th></th>\n",
       "      <th>WeekOfMonth</th>\n",
       "      <th>WeekOfMonthClaimed</th>\n",
       "      <th>Age</th>\n",
       "      <th>FraudFound_P</th>\n",
       "      <th>Deductible</th>\n",
       "      <th>DriverRating</th>\n",
       "      <th>Year</th>\n",
       "    </tr>\n",
       "  </thead>\n",
       "  <tbody>\n",
       "    <tr>\n",
       "      <th>count</th>\n",
       "      <td>1846.000000</td>\n",
       "      <td>1846.000000</td>\n",
       "      <td>1846.000000</td>\n",
       "      <td>1846.000000</td>\n",
       "      <td>1846.000000</td>\n",
       "      <td>1846.000000</td>\n",
       "      <td>1846.000000</td>\n",
       "    </tr>\n",
       "    <tr>\n",
       "      <th>mean</th>\n",
       "      <td>2.774106</td>\n",
       "      <td>2.719393</td>\n",
       "      <td>39.354280</td>\n",
       "      <td>0.500000</td>\n",
       "      <td>409.588299</td>\n",
       "      <td>2.517876</td>\n",
       "      <td>1994.826652</td>\n",
       "    </tr>\n",
       "    <tr>\n",
       "      <th>std</th>\n",
       "      <td>1.275324</td>\n",
       "      <td>1.262905</td>\n",
       "      <td>13.637433</td>\n",
       "      <td>0.500135</td>\n",
       "      <td>46.447144</td>\n",
       "      <td>1.127366</td>\n",
       "      <td>0.799230</td>\n",
       "    </tr>\n",
       "    <tr>\n",
       "      <th>min</th>\n",
       "      <td>1.000000</td>\n",
       "      <td>1.000000</td>\n",
       "      <td>0.000000</td>\n",
       "      <td>0.000000</td>\n",
       "      <td>300.000000</td>\n",
       "      <td>1.000000</td>\n",
       "      <td>1994.000000</td>\n",
       "    </tr>\n",
       "    <tr>\n",
       "      <th>25%</th>\n",
       "      <td>2.000000</td>\n",
       "      <td>2.000000</td>\n",
       "      <td>30.000000</td>\n",
       "      <td>0.000000</td>\n",
       "      <td>400.000000</td>\n",
       "      <td>1.000000</td>\n",
       "      <td>1994.000000</td>\n",
       "    </tr>\n",
       "    <tr>\n",
       "      <th>50%</th>\n",
       "      <td>3.000000</td>\n",
       "      <td>3.000000</td>\n",
       "      <td>38.000000</td>\n",
       "      <td>0.500000</td>\n",
       "      <td>400.000000</td>\n",
       "      <td>3.000000</td>\n",
       "      <td>1995.000000</td>\n",
       "    </tr>\n",
       "    <tr>\n",
       "      <th>75%</th>\n",
       "      <td>4.000000</td>\n",
       "      <td>4.000000</td>\n",
       "      <td>48.000000</td>\n",
       "      <td>1.000000</td>\n",
       "      <td>400.000000</td>\n",
       "      <td>4.000000</td>\n",
       "      <td>1995.000000</td>\n",
       "    </tr>\n",
       "    <tr>\n",
       "      <th>max</th>\n",
       "      <td>5.000000</td>\n",
       "      <td>5.000000</td>\n",
       "      <td>80.000000</td>\n",
       "      <td>1.000000</td>\n",
       "      <td>700.000000</td>\n",
       "      <td>4.000000</td>\n",
       "      <td>1996.000000</td>\n",
       "    </tr>\n",
       "  </tbody>\n",
       "</table>\n",
       "</div>"
      ],
      "text/plain": [
       "       WeekOfMonth  WeekOfMonthClaimed          Age  FraudFound_P  \\\n",
       "count  1846.000000         1846.000000  1846.000000   1846.000000   \n",
       "mean      2.774106            2.719393    39.354280      0.500000   \n",
       "std       1.275324            1.262905    13.637433      0.500135   \n",
       "min       1.000000            1.000000     0.000000      0.000000   \n",
       "25%       2.000000            2.000000    30.000000      0.000000   \n",
       "50%       3.000000            3.000000    38.000000      0.500000   \n",
       "75%       4.000000            4.000000    48.000000      1.000000   \n",
       "max       5.000000            5.000000    80.000000      1.000000   \n",
       "\n",
       "        Deductible  DriverRating         Year  \n",
       "count  1846.000000   1846.000000  1846.000000  \n",
       "mean    409.588299      2.517876  1994.826652  \n",
       "std      46.447144      1.127366     0.799230  \n",
       "min     300.000000      1.000000  1994.000000  \n",
       "25%     400.000000      1.000000  1994.000000  \n",
       "50%     400.000000      3.000000  1995.000000  \n",
       "75%     400.000000      4.000000  1995.000000  \n",
       "max     700.000000      4.000000  1996.000000  "
      ]
     },
     "execution_count": 8,
     "metadata": {},
     "output_type": "execute_result"
    }
   ],
   "source": [
    "#creating a balanced dataset\n",
    "red_nof_data=nofraud_data.sample(n=923,replace=True,random_state=1)\n",
    "model_data=pd.concat([red_nof_data,fraud_data])\n",
    "model_data.describe()"
   ]
  },
  {
   "cell_type": "markdown",
   "id": "009ecab9",
   "metadata": {
    "papermill": {
     "duration": 0.009054,
     "end_time": "2022-12-07T00:19:59.863332",
     "exception": false,
     "start_time": "2022-12-07T00:19:59.854278",
     "status": "completed"
    },
    "tags": []
   },
   "source": [
    "Now, we'll tranform all the string data to integer data, then create a RandomForestRegressor algorithm. We'll create a simple train-test-split, then use the basic model without any hyperparameter tuning."
   ]
  },
  {
   "cell_type": "code",
   "execution_count": 9,
   "id": "f6449610",
   "metadata": {
    "execution": {
     "iopub.execute_input": "2022-12-07T00:19:59.884022Z",
     "iopub.status.busy": "2022-12-07T00:19:59.883621Z",
     "iopub.status.idle": "2022-12-07T00:20:00.495419Z",
     "shell.execute_reply": "2022-12-07T00:20:00.493908Z"
    },
    "papermill": {
     "duration": 0.624982,
     "end_time": "2022-12-07T00:20:00.497967",
     "exception": false,
     "start_time": "2022-12-07T00:19:59.872985",
     "status": "completed"
    },
    "tags": []
   },
   "outputs": [
    {
     "name": "stdout",
     "output_type": "stream",
     "text": [
      "MAE: 0.3028787878787879\n",
      "Max Error: 0.95\n"
     ]
    }
   ],
   "source": [
    "#transforming string to integer data again\n",
    "def transform(column):\n",
    "    label=LabelEncoder().fit_transform(model_data[column])\n",
    "    model_data.drop(column,axis=1,inplace=True)\n",
    "    model_data[column]=label\n",
    "def multi_transform(list):\n",
    "    mt_list=[]\n",
    "    for x in list:\n",
    "        if x not in mt_list:\n",
    "            transform(x)\n",
    "multi_transform(attributes)\n",
    "\n",
    "#building the model\n",
    "y=model_data.FraudFound_P\n",
    "X=model_data[attributes]\n",
    "\n",
    "train_X,test_X,train_y,test_y=train_test_split(X,y,random_state=0)\n",
    "\n",
    "model = RandomForestRegressor(random_state=1)\n",
    "model.fit(train_X, train_y)\n",
    "predictions=model.predict(test_X)\n",
    "\n",
    "#checking accuracy\n",
    "print('MAE:',mean_absolute_error(test_y,predictions))\n",
    "print('Max Error:',max_error(test_y,predictions))"
   ]
  },
  {
   "cell_type": "markdown",
   "id": "c9f18304",
   "metadata": {
    "papermill": {
     "duration": 0.009379,
     "end_time": "2022-12-07T00:20:00.517206",
     "exception": false,
     "start_time": "2022-12-07T00:20:00.507827",
     "status": "completed"
    },
    "tags": []
   },
   "source": [
    "Here's our baseline results. We're using Mean Absolute Error alongside Max Error to determine how well our model is doing. The goal is to make a confident statement about which claims should be investigated further, and which are probably not fraudulent.\n",
    "\n",
    "If we wanted to say \"any claim with a predicted score of .5 or higher is most-likely fraudulent\", we would want the Max Error to be less than .5, and the Mean Absolute Error to be around .25, but it looks like our Max Error is waaay off.\n",
    "\n",
    "Let's try to implement feature selection, and see what effect that has on the model."
   ]
  },
  {
   "cell_type": "code",
   "execution_count": 10,
   "id": "69a5dc20",
   "metadata": {
    "execution": {
     "iopub.execute_input": "2022-12-07T00:20:00.537882Z",
     "iopub.status.busy": "2022-12-07T00:20:00.537459Z",
     "iopub.status.idle": "2022-12-07T00:20:00.798000Z",
     "shell.execute_reply": "2022-12-07T00:20:00.796790Z"
    },
    "papermill": {
     "duration": 0.27376,
     "end_time": "2022-12-07T00:20:00.800324",
     "exception": false,
     "start_time": "2022-12-07T00:20:00.526564",
     "status": "completed"
    },
    "tags": []
   },
   "outputs": [
    {
     "data": {
      "image/png": "[encoded data removed]",
      "text/plain": [
       "<Figure size 432x288 with 1 Axes>"
      ]
     },
     "metadata": {
      "needs_background": "light"
     },
     "output_type": "display_data"
    }
   ],
   "source": [
    "#checking correlation for feature selection\n",
    "fs=SelectKBest(score_func=f_regression, k='all')\n",
    "fs.fit(train_X, train_y)\n",
    "train_X_fs=fs.transform(train_X)\n",
    "test_X_fs=fs.transform(test_X)\n",
    "\n",
    "#plotting correlation\n",
    "pyplot.bar([i for i in range(len(fs.scores_))],fs.scores_)\n",
    "pyplot.show()"
   ]
  },
  {
   "cell_type": "markdown",
   "id": "3709e691",
   "metadata": {
    "papermill": {
     "duration": 0.009276,
     "end_time": "2022-12-07T00:20:00.819217",
     "exception": false,
     "start_time": "2022-12-07T00:20:00.809941",
     "status": "completed"
    },
    "tags": []
   },
   "source": [
    "Now we can apply these results to the RandomForestRegressor model and see how it affects the results."
   ]
  },
  {
   "cell_type": "code",
   "execution_count": 11,
   "id": "b76cec1e",
   "metadata": {
    "execution": {
     "iopub.execute_input": "2022-12-07T00:20:00.840139Z",
     "iopub.status.busy": "2022-12-07T00:20:00.839719Z",
     "iopub.status.idle": "2022-12-07T00:20:01.041922Z",
     "shell.execute_reply": "2022-12-07T00:20:01.040567Z"
    },
    "papermill": {
     "duration": 0.215914,
     "end_time": "2022-12-07T00:20:01.044627",
     "exception": false,
     "start_time": "2022-12-07T00:20:00.828713",
     "status": "completed"
    },
    "tags": []
   },
   "outputs": [
    {
     "name": "stdout",
     "output_type": "stream",
     "text": [
      "MAE: 0.34619500782894796\n",
      "Max Error: 0.9043638381907092\n"
     ]
    }
   ],
   "source": [
    "#feature selection\n",
    "def select_features(train_X,train_y,test_X):\n",
    "    fr = SelectKBest(score_func=f_regression,k=4)\n",
    "    fr.fit(train_X,train_y)\n",
    "    train_X_fr=fr.transform(train_X)\n",
    "    test_X_fr=fr.transform(test_X)\n",
    "    return train_X_fr,test_X_fr,fr\n",
    "train_X_fr,test_X_fr,fr=select_features(train_X,train_y,test_X)\n",
    "\n",
    "#fitting the model with feature selection\n",
    "model=RandomForestRegressor(random_state=1)\n",
    "model.fit(train_X_fr,train_y)\n",
    "predictions2=model.predict(test_X_fr)\n",
    "\n",
    "#checking accuracy\n",
    "print('MAE:',mean_absolute_error(test_y,predictions2))\n",
    "print('Max Error:',max_error(test_y,predictions2))"
   ]
  },
  {
   "cell_type": "markdown",
   "id": "230a0cfe",
   "metadata": {
    "papermill": {
     "duration": 0.009282,
     "end_time": "2022-12-07T00:20:01.063629",
     "exception": false,
     "start_time": "2022-12-07T00:20:01.054347",
     "status": "completed"
    },
    "tags": []
   },
   "source": [
    "Well, it looks like feature selection had a small effect on the Max Error, but also made the Mean Absolute Error even worse. It's possible that we overdid it, and left the model without enough information.\n",
    "\n",
    "Let's take away the feature selection, and try to improve our first model with some hyperparameter tuning."
   ]
  },
  {
   "cell_type": "code",
   "execution_count": 12,
   "id": "0b430d86",
   "metadata": {
    "execution": {
     "iopub.execute_input": "2022-12-07T00:20:01.084592Z",
     "iopub.status.busy": "2022-12-07T00:20:01.084149Z",
     "iopub.status.idle": "2022-12-07T00:20:01.349447Z",
     "shell.execute_reply": "2022-12-07T00:20:01.347693Z"
    },
    "papermill": {
     "duration": 0.278883,
     "end_time": "2022-12-07T00:20:01.352288",
     "exception": false,
     "start_time": "2022-12-07T00:20:01.073405",
     "status": "completed"
    },
    "tags": []
   },
   "outputs": [
    {
     "name": "stdout",
     "output_type": "stream",
     "text": [
      "MAE: 0.4714715760871701\n",
      "Max Error: 0.6026276419658774\n"
     ]
    }
   ],
   "source": [
    "model = RandomForestRegressor(random_state=1,n_estimators=200,max_depth=10,min_samples_split=3,max_leaf_nodes=2,max_samples=20)\n",
    "model.fit(train_X, train_y)\n",
    "predictions=model.predict(test_X)\n",
    "\n",
    "#checking accuracy\n",
    "print('MAE:',mean_absolute_error(test_y,predictions))\n",
    "print('Max Error:',max_error(test_y,predictions))"
   ]
  },
  {
   "cell_type": "markdown",
   "id": "77f2893f",
   "metadata": {
    "papermill": {
     "duration": 0.009708,
     "end_time": "2022-12-07T00:20:01.372090",
     "exception": false,
     "start_time": "2022-12-07T00:20:01.362382",
     "status": "completed"
    },
    "tags": []
   },
   "source": [
    "Wow! Just some simple hyperparameter tuning has brought our Max Error down from .95 to .60! Unfortunately, the Mean Absolute Error also went up by a pretty significant amount. That means that, although the highest errors have been brought down, our average error is higher.\n",
    "\n",
    "Let's try combining our hyperparameter tuning and the feature selection from earlier."
   ]
  },
  {
   "cell_type": "code",
   "execution_count": 13,
   "id": "d6add6a4",
   "metadata": {
    "execution": {
     "iopub.execute_input": "2022-12-07T00:20:01.393447Z",
     "iopub.status.busy": "2022-12-07T00:20:01.392925Z",
     "iopub.status.idle": "2022-12-07T00:20:01.652224Z",
     "shell.execute_reply": "2022-12-07T00:20:01.650589Z"
    },
    "papermill": {
     "duration": 0.274105,
     "end_time": "2022-12-07T00:20:01.656017",
     "exception": false,
     "start_time": "2022-12-07T00:20:01.381912",
     "status": "completed"
    },
    "tags": []
   },
   "outputs": [
    {
     "name": "stdout",
     "output_type": "stream",
     "text": [
      "MAE: 0.42535281310851003\n",
      "Max Error: 0.6884586476689805\n"
     ]
    }
   ],
   "source": [
    "model=RandomForestRegressor(random_state=1,n_estimators=200,max_depth=10,min_samples_split=3,max_leaf_nodes=2,max_samples=20)\n",
    "model.fit(train_X_fr,train_y)\n",
    "predictions2=model.predict(test_X_fr)\n",
    "\n",
    "print('MAE:',mean_absolute_error(test_y,predictions2))\n",
    "print('Max Error:',max_error(test_y,predictions2))"
   ]
  },
  {
   "cell_type": "markdown",
   "id": "855d8e71",
   "metadata": {
    "papermill": {
     "duration": 0.01021,
     "end_time": "2022-12-07T00:20:01.677143",
     "exception": false,
     "start_time": "2022-12-07T00:20:01.666933",
     "status": "completed"
    },
    "tags": []
   },
   "source": [
    "Not bad! We brought down the Mean Absolute Error, and the Max Error is still at a reasonable level.\n",
    "\n",
    "We've created a model for predicting fraud, and systematically improved it using hyperparameter tuning and feature selection. We can confidently say that the largest error our model created was .69, and its average error is .43.\n",
    "\n",
    "In the future, training the model on larger datasets and continuing to tweak its hyperparameters could lead to even more impressive results."
   ]
  }
 ],
 "metadata": {
  "kernelspec": {
   "display_name": "Python 3",
   "language": "python",
   "name": "python3"
  },
  "language_info": {
   "codemirror_mode": {
    "name": "ipython",
    "version": 3
   },
   "file_extension": ".py",
   "mimetype": "text/x-python",
   "name": "python",
   "nbconvert_exporter": "python",
   "pygments_lexer": "ipython3",
   "version": "3.7.12"
  },
  "papermill": {
   "default_parameters": {},
   "duration": 15.922433,
   "end_time": "2022-12-07T00:20:02.511696",
   "environment_variables": {},
   "exception": null,
   "input_path": "__notebook__.ipynb",
   "output_path": "__notebook__.ipynb",
   "parameters": {},
   "start_time": "2022-12-07T00:19:46.589263",
   "version": "2.3.4"
  }
 },
 "nbformat": 4,
 "nbformat_minor": 5
}
